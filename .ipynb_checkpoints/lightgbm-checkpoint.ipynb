{
 "cells": [
  {
   "cell_type": "markdown",
   "id": "8fafa0d6",
   "metadata": {},
   "source": [
    "# 勾配Boosting木 (lightGBM)"
   ]
  },
  {
   "cell_type": "code",
   "execution_count": 24,
   "id": "0eac06f8",
   "metadata": {},
   "outputs": [],
   "source": [
    "import pandas as pd\n",
    "import numpy as np\n",
    "from matplotlib import pyplot as plt\n",
    "%matplotlib inline\n",
    "\n",
    "from sklearn.metrics import roc_curve, roc_auc_score"
   ]
  },
  {
   "cell_type": "markdown",
   "id": "59274936",
   "metadata": {},
   "source": [
    "### 読み込むデータファイルの年を入力"
   ]
  },
  {
   "cell_type": "code",
   "execution_count": 4,
   "id": "26231a33",
   "metadata": {},
   "outputs": [],
   "source": [
    "target_year = '2019'"
   ]
  },
  {
   "cell_type": "code",
   "execution_count": 6,
   "id": "575b314e",
   "metadata": {},
   "outputs": [],
   "source": [
    "read_file_name = target_year + '_result.pickle'\n",
    "data = pd.read_pickle(read_file_name)"
   ]
  },
  {
   "cell_type": "code",
   "execution_count": 7,
   "id": "35cbd938",
   "metadata": {},
   "outputs": [
    {
     "data": {
      "text/html": [
       "<div>\n",
       "<style scoped>\n",
       "    .dataframe tbody tr th:only-of-type {\n",
       "        vertical-align: middle;\n",
       "    }\n",
       "\n",
       "    .dataframe tbody tr th {\n",
       "        vertical-align: top;\n",
       "    }\n",
       "\n",
       "    .dataframe thead th {\n",
       "        text-align: right;\n",
       "    }\n",
       "</style>\n",
       "<table border=\"1\" class=\"dataframe\">\n",
       "  <thead>\n",
       "    <tr style=\"text-align: right;\">\n",
       "      <th></th>\n",
       "      <th>着順</th>\n",
       "      <th>枠番</th>\n",
       "      <th>馬番</th>\n",
       "      <th>馬名</th>\n",
       "      <th>斤量</th>\n",
       "      <th>騎手</th>\n",
       "      <th>単勝</th>\n",
       "      <th>人気</th>\n",
       "      <th>course_len</th>\n",
       "      <th>weather</th>\n",
       "      <th>race_type</th>\n",
       "      <th>ground_state</th>\n",
       "      <th>date</th>\n",
       "      <th>性</th>\n",
       "      <th>年齢</th>\n",
       "      <th>体重</th>\n",
       "      <th>増減</th>\n",
       "    </tr>\n",
       "  </thead>\n",
       "  <tbody>\n",
       "    <tr>\n",
       "      <th>201901010101</th>\n",
       "      <td>1</td>\n",
       "      <td>1</td>\n",
       "      <td>1</td>\n",
       "      <td>ゴルコンダ</td>\n",
       "      <td>54.0</td>\n",
       "      <td>ルメール</td>\n",
       "      <td>1.4</td>\n",
       "      <td>1.0</td>\n",
       "      <td>1800</td>\n",
       "      <td>曇</td>\n",
       "      <td>芝</td>\n",
       "      <td>良</td>\n",
       "      <td>2019-07-27</td>\n",
       "      <td>牡</td>\n",
       "      <td>2</td>\n",
       "      <td>518</td>\n",
       "      <td>-16</td>\n",
       "    </tr>\n",
       "    <tr>\n",
       "      <th>201901010101</th>\n",
       "      <td>2</td>\n",
       "      <td>3</td>\n",
       "      <td>3</td>\n",
       "      <td>プントファイヤー</td>\n",
       "      <td>54.0</td>\n",
       "      <td>岩田康誠</td>\n",
       "      <td>3.5</td>\n",
       "      <td>2.0</td>\n",
       "      <td>1800</td>\n",
       "      <td>曇</td>\n",
       "      <td>芝</td>\n",
       "      <td>良</td>\n",
       "      <td>2019-07-27</td>\n",
       "      <td>牡</td>\n",
       "      <td>2</td>\n",
       "      <td>496</td>\n",
       "      <td>-8</td>\n",
       "    </tr>\n",
       "  </tbody>\n",
       "</table>\n",
       "</div>"
      ],
      "text/plain": [
       "              着順  枠番  馬番        馬名    斤量    騎手   単勝   人気 course_len weather  \\\n",
       "201901010101   1   1   1     ゴルコンダ  54.0  ルメール  1.4  1.0       1800       曇   \n",
       "201901010101   2   3   3  プントファイヤー  54.0  岩田康誠  3.5  2.0       1800       曇   \n",
       "\n",
       "             race_type ground_state       date  性 年齢   体重  増減  \n",
       "201901010101         芝            良 2019-07-27  牡  2  518 -16  \n",
       "201901010101         芝            良 2019-07-27  牡  2  496  -8  "
      ]
     },
     "execution_count": 7,
     "metadata": {},
     "output_type": "execute_result"
    }
   ],
   "source": [
    "data.head(2)"
   ]
  },
  {
   "cell_type": "markdown",
   "id": "3f63dbda",
   "metadata": {},
   "source": [
    "### 不要データと型の調整"
   ]
  },
  {
   "cell_type": "code",
   "execution_count": 8,
   "id": "94fd026f",
   "metadata": {},
   "outputs": [],
   "source": [
    "data.drop('馬名', axis=1, inplace=True)"
   ]
  },
  {
   "cell_type": "code",
   "execution_count": 9,
   "id": "75d0a0d4",
   "metadata": {},
   "outputs": [
    {
     "name": "stdout",
     "output_type": "stream",
     "text": [
      "<class 'pandas.core.frame.DataFrame'>\n",
      "Index: 47118 entries, 201901010101 to 201910021212\n",
      "Data columns (total 16 columns):\n",
      " #   Column        Non-Null Count  Dtype         \n",
      "---  ------        --------------  -----         \n",
      " 0   着順            47118 non-null  int64         \n",
      " 1   枠番            47118 non-null  int64         \n",
      " 2   馬番            47118 non-null  int64         \n",
      " 3   斤量            47118 non-null  float64       \n",
      " 4   騎手            47118 non-null  object        \n",
      " 5   単勝            47118 non-null  float64       \n",
      " 6   人気            47118 non-null  float64       \n",
      " 7   course_len    47118 non-null  int64         \n",
      " 8   weather       47118 non-null  object        \n",
      " 9   race_type     47118 non-null  object        \n",
      " 10  ground_state  47118 non-null  object        \n",
      " 11  date          47118 non-null  datetime64[ns]\n",
      " 12  性             47118 non-null  object        \n",
      " 13  年齢            47118 non-null  int64         \n",
      " 14  体重            47118 non-null  int64         \n",
      " 15  増減            47118 non-null  int64         \n",
      "dtypes: datetime64[ns](1), float64(3), int64(7), object(5)\n",
      "memory usage: 6.1+ MB\n"
     ]
    }
   ],
   "source": [
    "data['course_len'] = data['course_len'].astype(int)\n",
    "data['年齢'] = data['年齢'].astype(int)\n",
    "data.info()"
   ]
  },
  {
   "cell_type": "code",
   "execution_count": 10,
   "id": "6bb59fe1",
   "metadata": {},
   "outputs": [],
   "source": [
    "data['rank'] = data['着順'].map(lambda x: x if x<4 else 4)"
   ]
  },
  {
   "cell_type": "code",
   "execution_count": 11,
   "id": "e210f6c6",
   "metadata": {},
   "outputs": [],
   "source": [
    "data['rank'] = data['rank'].map(lambda x: 1 if x < 4 else 0)"
   ]
  },
  {
   "cell_type": "code",
   "execution_count": 12,
   "id": "d9d99c91",
   "metadata": {},
   "outputs": [
    {
     "data": {
      "text/plain": [
       "0    36759\n",
       "1    10359\n",
       "Name: rank, dtype: int64"
      ]
     },
     "execution_count": 12,
     "metadata": {},
     "output_type": "execute_result"
    }
   ],
   "source": [
    "data['rank'].value_counts()"
   ]
  },
  {
   "cell_type": "code",
   "execution_count": 13,
   "id": "0d3b8d8f",
   "metadata": {},
   "outputs": [],
   "source": [
    "data_d = pd.get_dummies(data)"
   ]
  },
  {
   "cell_type": "markdown",
   "id": "d5b4f5cc",
   "metadata": {},
   "source": [
    "### 訓練とテストデータを分ける関数定義"
   ]
  },
  {
   "cell_type": "code",
   "execution_count": 14,
   "id": "3aed2987",
   "metadata": {},
   "outputs": [],
   "source": [
    "def split_data(df, test_size=0.3):\n",
    "    sorted_id_list = data.sort_values('date').index.unique()\n",
    "    train_id_list = sorted_id_list[:round(len(sorted_id_list) * (1- test_size))]\n",
    "    test_id_list = sorted_id_list[round(len(sorted_id_list) * (1 - test_size)):]\n",
    "    train = df.loc[train_id_list]\n",
    "    test = df.loc[test_id_list]\n",
    "    return train, test"
   ]
  },
  {
   "cell_type": "code",
   "execution_count": 15,
   "id": "3d7296da",
   "metadata": {},
   "outputs": [],
   "source": [
    "train, test = split_data(data_d, 0.3)"
   ]
  },
  {
   "cell_type": "code",
   "execution_count": 16,
   "id": "4f455f94",
   "metadata": {},
   "outputs": [
    {
     "data": {
      "text/plain": [
       "0.7030646462073942"
      ]
     },
     "execution_count": 16,
     "metadata": {},
     "output_type": "execute_result"
    }
   ],
   "source": [
    "len(train) / len(data)"
   ]
  },
  {
   "cell_type": "code",
   "execution_count": 17,
   "id": "666a684f",
   "metadata": {},
   "outputs": [
    {
     "data": {
      "text/plain": [
       "0.29693535379260577"
      ]
     },
     "execution_count": 17,
     "metadata": {},
     "output_type": "execute_result"
    }
   ],
   "source": [
    "len(test) / len(data)"
   ]
  },
  {
   "cell_type": "markdown",
   "id": "8db1f53c",
   "metadata": {},
   "source": [
    "### lightGBMで解析"
   ]
  },
  {
   "cell_type": "code",
   "execution_count": 18,
   "id": "af565d5a",
   "metadata": {},
   "outputs": [],
   "source": [
    "X_train = train.drop(['着順','rank','date'], axis=1)\n",
    "y_train = train['rank']\n",
    "X_test = test.drop(['着順','rank','date'], axis=1)\n",
    "y_test = test['rank']"
   ]
  },
  {
   "cell_type": "code",
   "execution_count": 22,
   "id": "9b2a14cf",
   "metadata": {},
   "outputs": [],
   "source": [
    "import lightgbm as lgb"
   ]
  },
  {
   "cell_type": "code",
   "execution_count": 34,
   "id": "9d6e7b1e",
   "metadata": {},
   "outputs": [],
   "source": [
    "# パラメータ設定\n",
    "params = {\n",
    "    'num_leaves': 4,\n",
    "    'random_state': 100,\n",
    "    'n_estimators': 80,\n",
    "    #'class_weigth':'balanced'\n",
    "    #'min_data_in_leaf': 10,\n",
    "}"
   ]
  },
  {
   "cell_type": "code",
   "execution_count": 35,
   "id": "85238e54",
   "metadata": {},
   "outputs": [
    {
     "name": "stdout",
     "output_type": "stream",
     "text": [
      "0.8186895568242043\n",
      "0.8114899685016893\n"
     ]
    }
   ],
   "source": [
    "# 学習\n",
    "lgb_clf = lgb.LGBMClassifier(**params)\n",
    "lgb_clf.fit(X_train.values, y_train.values)\n",
    "\n",
    "#　予測\n",
    "y_pred_train = lgb_clf.predict_proba(X_train)[:,1]\n",
    "y_pred = lgb_clf.predict_proba(X_test)[:,1]\n",
    "\n",
    "print(roc_auc_score(y_train, y_pred_train))\n",
    "print(roc_auc_score(y_test, y_pred))"
   ]
  },
  {
   "cell_type": "code",
   "execution_count": 39,
   "id": "70a3a7b7",
   "metadata": {},
   "outputs": [
    {
     "data": {
      "image/png": "[encoded data removed]",
      "text/plain": [
       "<Figure size 432x288 with 1 Axes>"
      ]
     },
     "metadata": {
      "needs_background": "light"
     },
     "output_type": "display_data"
    }
   ],
   "source": [
    "# AUCカーブの描画\n",
    "fpr, tpr, thresholds = roc_curve(y_test, y_pred)\n",
    "\n",
    "plt.plot(fpr, tpr, marker='o')\n",
    "plt.xlabel('False positive rate')\n",
    "plt.ylabel('True positive rate')\n",
    "plt.grid()\n",
    "plt.show()"
   ]
  },
  {
   "cell_type": "code",
   "execution_count": 37,
   "id": "ca440e0b",
   "metadata": {},
   "outputs": [
    {
     "data": {
      "text/html": [
       "<div>\n",
       "<style scoped>\n",
       "    .dataframe tbody tr th:only-of-type {\n",
       "        vertical-align: middle;\n",
       "    }\n",
       "\n",
       "    .dataframe tbody tr th {\n",
       "        vertical-align: top;\n",
       "    }\n",
       "\n",
       "    .dataframe thead th {\n",
       "        text-align: right;\n",
       "    }\n",
       "</style>\n",
       "<table border=\"1\" class=\"dataframe\">\n",
       "  <thead>\n",
       "    <tr style=\"text-align: right;\">\n",
       "      <th></th>\n",
       "      <th>features</th>\n",
       "      <th>importance</th>\n",
       "    </tr>\n",
       "  </thead>\n",
       "  <tbody>\n",
       "    <tr>\n",
       "      <th>3</th>\n",
       "      <td>単勝</td>\n",
       "      <td>126</td>\n",
       "    </tr>\n",
       "    <tr>\n",
       "      <th>4</th>\n",
       "      <td>人気</td>\n",
       "      <td>20</td>\n",
       "    </tr>\n",
       "    <tr>\n",
       "      <th>6</th>\n",
       "      <td>年齢</td>\n",
       "      <td>9</td>\n",
       "    </tr>\n",
       "    <tr>\n",
       "      <th>2</th>\n",
       "      <td>斤量</td>\n",
       "      <td>8</td>\n",
       "    </tr>\n",
       "    <tr>\n",
       "      <th>1</th>\n",
       "      <td>馬番</td>\n",
       "      <td>7</td>\n",
       "    </tr>\n",
       "    <tr>\n",
       "      <th>7</th>\n",
       "      <td>体重</td>\n",
       "      <td>7</td>\n",
       "    </tr>\n",
       "    <tr>\n",
       "      <th>179</th>\n",
       "      <td>騎手_藤田菜七</td>\n",
       "      <td>7</td>\n",
       "    </tr>\n",
       "    <tr>\n",
       "      <th>8</th>\n",
       "      <td>増減</td>\n",
       "      <td>6</td>\n",
       "    </tr>\n",
       "    <tr>\n",
       "      <th>5</th>\n",
       "      <td>course_len</td>\n",
       "      <td>5</td>\n",
       "    </tr>\n",
       "    <tr>\n",
       "      <th>94</th>\n",
       "      <td>騎手_嶋田純次</td>\n",
       "      <td>4</td>\n",
       "    </tr>\n",
       "    <tr>\n",
       "      <th>27</th>\n",
       "      <td>騎手_上野翔</td>\n",
       "      <td>4</td>\n",
       "    </tr>\n",
       "    <tr>\n",
       "      <th>103</th>\n",
       "      <td>騎手_斎藤新</td>\n",
       "      <td>4</td>\n",
       "    </tr>\n",
       "    <tr>\n",
       "      <th>150</th>\n",
       "      <td>騎手_的場勇人</td>\n",
       "      <td>3</td>\n",
       "    </tr>\n",
       "    <tr>\n",
       "      <th>102</th>\n",
       "      <td>騎手_戸崎圭太</td>\n",
       "      <td>2</td>\n",
       "    </tr>\n",
       "    <tr>\n",
       "      <th>0</th>\n",
       "      <td>枠番</td>\n",
       "      <td>2</td>\n",
       "    </tr>\n",
       "    <tr>\n",
       "      <th>147</th>\n",
       "      <td>騎手_田辺裕信</td>\n",
       "      <td>2</td>\n",
       "    </tr>\n",
       "    <tr>\n",
       "      <th>159</th>\n",
       "      <td>騎手_石神深一</td>\n",
       "      <td>2</td>\n",
       "    </tr>\n",
       "    <tr>\n",
       "      <th>161</th>\n",
       "      <td>騎手_秋山真一</td>\n",
       "      <td>2</td>\n",
       "    </tr>\n",
       "    <tr>\n",
       "      <th>185</th>\n",
       "      <td>騎手_酒井学</td>\n",
       "      <td>2</td>\n",
       "    </tr>\n",
       "    <tr>\n",
       "      <th>218</th>\n",
       "      <td>性_牡</td>\n",
       "      <td>2</td>\n",
       "    </tr>\n",
       "  </tbody>\n",
       "</table>\n",
       "</div>"
      ],
      "text/plain": [
       "       features  importance\n",
       "3            単勝         126\n",
       "4            人気          20\n",
       "6            年齢           9\n",
       "2            斤量           8\n",
       "1            馬番           7\n",
       "7            体重           7\n",
       "179     騎手_藤田菜七           7\n",
       "8            増減           6\n",
       "5    course_len           5\n",
       "94      騎手_嶋田純次           4\n",
       "27       騎手_上野翔           4\n",
       "103      騎手_斎藤新           4\n",
       "150     騎手_的場勇人           3\n",
       "102     騎手_戸崎圭太           2\n",
       "0            枠番           2\n",
       "147     騎手_田辺裕信           2\n",
       "159     騎手_石神深一           2\n",
       "161     騎手_秋山真一           2\n",
       "185      騎手_酒井学           2\n",
       "218         性_牡           2"
      ]
     },
     "execution_count": 37,
     "metadata": {},
     "output_type": "execute_result"
    }
   ],
   "source": [
    "# 重要な要素を表示\n",
    "importance = pd.DataFrame({'features': X_train.columns, 'importance': lgb_clf.feature_importances_})\n",
    "importance.sort_values(by='importance', ascending=False)[:20]"
   ]
  },
  {
   "cell_type": "code",
   "execution_count": null,
   "id": "e8d73598",
   "metadata": {},
   "outputs": [],
   "source": []
  }
 ],
 "metadata": {
  "kernelspec": {
   "display_name": "Python 3 (ipykernel)",
   "language": "python",
   "name": "python3"
  },
  "language_info": {
   "codemirror_mode": {
    "name": "ipython",
    "version": 3
   },
   "file_extension": ".py",
   "mimetype": "text/x-python",
   "name": "python",
   "nbconvert_exporter": "python",
   "pygments_lexer": "ipython3",
   "version": "3.9.6"
  }
 },
 "nbformat": 4,
 "nbformat_minor": 5
}
