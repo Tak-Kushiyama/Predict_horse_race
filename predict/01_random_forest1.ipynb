{
 "cells": [
  {
   "cell_type": "markdown",
   "id": "9bdfd5f7",
   "metadata": {},
   "source": [
    "# ランダムフォレストによる予測"
   ]
  },
  {
   "cell_type": "code",
   "execution_count": 41,
   "id": "e29e7956",
   "metadata": {},
   "outputs": [],
   "source": [
    "import pandas as pd\n",
    "import numpy as np\n",
    "from matplotlib import pyplot as plt\n",
    "%matplotlib inline"
   ]
  },
  {
   "cell_type": "markdown",
   "id": "b32ab079",
   "metadata": {},
   "source": [
    "### 読み込むデータファイルの年を入力"
   ]
  },
  {
   "cell_type": "code",
   "execution_count": 81,
   "id": "5f66875d",
   "metadata": {},
   "outputs": [],
   "source": [
    "target_year = '2019'"
   ]
  },
  {
   "cell_type": "code",
   "execution_count": 82,
   "id": "c52c10fb",
   "metadata": {},
   "outputs": [],
   "source": [
    "read_file_name = target_year + '_result.pickle'\n",
    "data = pd.read_pickle(read_file_name)"
   ]
  },
  {
   "cell_type": "code",
   "execution_count": 83,
   "id": "96d1f9cc",
   "metadata": {},
   "outputs": [
    {
     "data": {
      "text/html": [
       "<div>\n",
       "<style scoped>\n",
       "    .dataframe tbody tr th:only-of-type {\n",
       "        vertical-align: middle;\n",
       "    }\n",
       "\n",
       "    .dataframe tbody tr th {\n",
       "        vertical-align: top;\n",
       "    }\n",
       "\n",
       "    .dataframe thead th {\n",
       "        text-align: right;\n",
       "    }\n",
       "</style>\n",
       "<table border=\"1\" class=\"dataframe\">\n",
       "  <thead>\n",
       "    <tr style=\"text-align: right;\">\n",
       "      <th></th>\n",
       "      <th>着順</th>\n",
       "      <th>枠番</th>\n",
       "      <th>馬番</th>\n",
       "      <th>馬名</th>\n",
       "      <th>斤量</th>\n",
       "      <th>騎手</th>\n",
       "      <th>単勝</th>\n",
       "      <th>人気</th>\n",
       "      <th>course_len</th>\n",
       "      <th>weather</th>\n",
       "      <th>race_type</th>\n",
       "      <th>ground_state</th>\n",
       "      <th>date</th>\n",
       "      <th>性</th>\n",
       "      <th>年齢</th>\n",
       "      <th>体重</th>\n",
       "      <th>増減</th>\n",
       "    </tr>\n",
       "  </thead>\n",
       "  <tbody>\n",
       "    <tr>\n",
       "      <th>201901010101</th>\n",
       "      <td>1</td>\n",
       "      <td>1</td>\n",
       "      <td>1</td>\n",
       "      <td>ゴルコンダ</td>\n",
       "      <td>54.0</td>\n",
       "      <td>ルメール</td>\n",
       "      <td>1.4</td>\n",
       "      <td>1.0</td>\n",
       "      <td>1800</td>\n",
       "      <td>曇</td>\n",
       "      <td>芝</td>\n",
       "      <td>良</td>\n",
       "      <td>2019-07-27</td>\n",
       "      <td>牡</td>\n",
       "      <td>2</td>\n",
       "      <td>518</td>\n",
       "      <td>-16</td>\n",
       "    </tr>\n",
       "    <tr>\n",
       "      <th>201901010101</th>\n",
       "      <td>2</td>\n",
       "      <td>3</td>\n",
       "      <td>3</td>\n",
       "      <td>プントファイヤー</td>\n",
       "      <td>54.0</td>\n",
       "      <td>岩田康誠</td>\n",
       "      <td>3.5</td>\n",
       "      <td>2.0</td>\n",
       "      <td>1800</td>\n",
       "      <td>曇</td>\n",
       "      <td>芝</td>\n",
       "      <td>良</td>\n",
       "      <td>2019-07-27</td>\n",
       "      <td>牡</td>\n",
       "      <td>2</td>\n",
       "      <td>496</td>\n",
       "      <td>-8</td>\n",
       "    </tr>\n",
       "  </tbody>\n",
       "</table>\n",
       "</div>"
      ],
      "text/plain": [
       "              着順  枠番  馬番        馬名    斤量    騎手   単勝   人気 course_len weather  \\\n",
       "201901010101   1   1   1     ゴルコンダ  54.0  ルメール  1.4  1.0       1800       曇   \n",
       "201901010101   2   3   3  プントファイヤー  54.0  岩田康誠  3.5  2.0       1800       曇   \n",
       "\n",
       "             race_type ground_state       date  性 年齢   体重  増減  \n",
       "201901010101         芝            良 2019-07-27  牡  2  518 -16  \n",
       "201901010101         芝            良 2019-07-27  牡  2  496  -8  "
      ]
     },
     "execution_count": 83,
     "metadata": {},
     "output_type": "execute_result"
    }
   ],
   "source": [
    "data.head(2)"
   ]
  },
  {
   "cell_type": "markdown",
   "id": "68a16e07",
   "metadata": {},
   "source": [
    "### 不要データと型の調整"
   ]
  },
  {
   "cell_type": "code",
   "execution_count": 84,
   "id": "931fadb2",
   "metadata": {},
   "outputs": [],
   "source": [
    "data.drop('馬名', axis=1, inplace=True)"
   ]
  },
  {
   "cell_type": "code",
   "execution_count": 99,
   "id": "6fe4ee56",
   "metadata": {},
   "outputs": [
    {
     "name": "stdout",
     "output_type": "stream",
     "text": [
      "<class 'pandas.core.frame.DataFrame'>\n",
      "Index: 47118 entries, 201901010101 to 201910021212\n",
      "Data columns (total 16 columns):\n",
      " #   Column        Non-Null Count  Dtype         \n",
      "---  ------        --------------  -----         \n",
      " 0   着順            47118 non-null  int64         \n",
      " 1   枠番            47118 non-null  int64         \n",
      " 2   馬番            47118 non-null  int64         \n",
      " 3   斤量            47118 non-null  float64       \n",
      " 4   騎手            47118 non-null  object        \n",
      " 5   単勝            47118 non-null  float64       \n",
      " 6   人気            47118 non-null  float64       \n",
      " 7   course_len    47118 non-null  int64         \n",
      " 8   weather       47118 non-null  object        \n",
      " 9   race_type     47118 non-null  object        \n",
      " 10  ground_state  47118 non-null  object        \n",
      " 11  date          47118 non-null  datetime64[ns]\n",
      " 12  性             47118 non-null  object        \n",
      " 13  年齢            47118 non-null  int64         \n",
      " 14  体重            47118 non-null  int64         \n",
      " 15  増減            47118 non-null  int64         \n",
      "dtypes: datetime64[ns](1), float64(3), int64(7), object(5)\n",
      "memory usage: 7.1+ MB\n"
     ]
    }
   ],
   "source": [
    "data['course_len'] = data['course_len'].astype(int)\n",
    "data['年齢'] = data['年齢'].astype(int)\n",
    "data.info()"
   ]
  },
  {
   "cell_type": "code",
   "execution_count": 100,
   "id": "ea963c60",
   "metadata": {},
   "outputs": [],
   "source": [
    "data_d = pd.get_dummies(data)"
   ]
  },
  {
   "cell_type": "code",
   "execution_count": 101,
   "id": "3d3ea534",
   "metadata": {},
   "outputs": [],
   "source": [
    "data_d['rank'] = data_d['着順'].map(lambda x: x if x<4 else 4)"
   ]
  },
  {
   "cell_type": "markdown",
   "id": "910f9cb2",
   "metadata": {},
   "source": [
    "### 訓練とテストデータを分ける関数定義"
   ]
  },
  {
   "cell_type": "code",
   "execution_count": null,
   "id": "c2c99aba",
   "metadata": {},
   "outputs": [],
   "source": [
    "def split_data(df, test_size):\n",
    "    sorted_id_list = data.sort_values('date').index.unique()\n",
    "    train_id_list = sorted_id_list[:round(len(sorted_id_list) * (1- test_size))]\n",
    "    test_id_list = sorted_id_list[round(len(sorted_id_list) * (1 - test_size)):]\n",
    "    train = df.loc[train_id_list]\n",
    "    test = df.loc[test_id_list]\n",
    "    return train, test"
   ]
  },
  {
   "cell_type": "code",
   "execution_count": 116,
   "id": "3064c477",
   "metadata": {},
   "outputs": [],
   "source": [
    "train, test = split_data(data_d, 0.3)"
   ]
  },
  {
   "cell_type": "code",
   "execution_count": 111,
   "id": "a8096bb5",
   "metadata": {},
   "outputs": [
    {
     "data": {
      "text/plain": [
       "0.7030646462073942"
      ]
     },
     "execution_count": 111,
     "metadata": {},
     "output_type": "execute_result"
    }
   ],
   "source": [
    "len(train) / len(data)"
   ]
  },
  {
   "cell_type": "code",
   "execution_count": 112,
   "id": "cf65ab92",
   "metadata": {},
   "outputs": [
    {
     "data": {
      "text/plain": [
       "0.29693535379260577"
      ]
     },
     "execution_count": 112,
     "metadata": {},
     "output_type": "execute_result"
    }
   ],
   "source": [
    "len(test) / len(data)"
   ]
  },
  {
   "cell_type": "markdown",
   "id": "ad1ec405",
   "metadata": {},
   "source": [
    "### アンダーサンプリングして、ランダムフォレストで解析"
   ]
  },
  {
   "cell_type": "code",
   "execution_count": 134,
   "id": "f42fba4a",
   "metadata": {},
   "outputs": [],
   "source": [
    "from imblearn.under_sampling import RandomUnderSampler\n",
    "\n",
    "rank_1 = train['rank'].value_counts()[1]\n",
    "rank_2 = train['rank'].value_counts()[2]\n",
    "rank_3 = train['rank'].value_counts()[3]\n",
    "\n",
    "rus = RandomUnderSampler(sampling_strategy={1:rank_1, 2:rank_2, 3:rank_3, 4:rank_1}, random_state=71)\n",
    "\n",
    "X_train = train.drop(['着順','rank','date'], axis=1)\n",
    "y_train = train['rank']\n",
    "X_test = test.drop(['着順','rank','date'], axis=1)\n",
    "y_test = test['rank']"
   ]
  },
  {
   "cell_type": "code",
   "execution_count": 135,
   "id": "636e2fa2",
   "metadata": {},
   "outputs": [],
   "source": [
    "X_train_rus, y_train_rus = rus.fit_resample(X_train, y_train)"
   ]
  },
  {
   "cell_type": "code",
   "execution_count": 138,
   "id": "34842f1b",
   "metadata": {},
   "outputs": [
    {
     "name": "stdout",
     "output_type": "stream",
     "text": [
      "0.7229148428774111 0.5393467228932886\n"
     ]
    }
   ],
   "source": [
    "from sklearn.ensemble import RandomForestClassifier\n",
    "\n",
    "clf = RandomForestClassifier(random_state=0)\n",
    "clf.fit(X_train_rus, y_train_rus)\n",
    "\n",
    "print(clf.score(X_train, y_train), clf.score(X_test, y_test))"
   ]
  }
 ],
 "metadata": {
  "kernelspec": {
   "display_name": "Python 3 (ipykernel)",
   "language": "python",
   "name": "python3"
  },
  "language_info": {
   "codemirror_mode": {
    "name": "ipython",
    "version": 3
   },
   "file_extension": ".py",
   "mimetype": "text/x-python",
   "name": "python",
   "nbconvert_exporter": "python",
   "pygments_lexer": "ipython3",
   "version": "3.8.2"
  }
 },
 "nbformat": 4,
 "nbformat_minor": 5
}
