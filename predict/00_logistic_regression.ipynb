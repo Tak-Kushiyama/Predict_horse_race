{
 "cells": [
  {
   "cell_type": "markdown",
   "id": "451ba698",
   "metadata": {},
   "source": [
    "# 3 ロジスティック回帰で予想"
   ]
  },
  {
   "cell_type": "code",
   "execution_count": 1,
   "id": "76ee6340",
   "metadata": {},
   "outputs": [],
   "source": [
    "import pandas as pd"
   ]
  },
  {
   "cell_type": "code",
   "execution_count": 2,
   "id": "6833cca0",
   "metadata": {},
   "outputs": [],
   "source": [
    "results  = pd.read_pickle('2019_result.pickle')"
   ]
  },
  {
   "cell_type": "markdown",
   "id": "6359010b",
   "metadata": {},
   "source": [
    "### 4着以下は4着としてまとめる"
   ]
  },
  {
   "cell_type": "code",
   "execution_count": 3,
   "id": "141513bb",
   "metadata": {},
   "outputs": [],
   "source": [
    "clip_rank = lambda x: x if x<4 else 4"
   ]
  },
  {
   "cell_type": "code",
   "execution_count": 4,
   "id": "27cc7da8",
   "metadata": {},
   "outputs": [],
   "source": [
    "results['rank'] = results['着順'].map(clip_rank)"
   ]
  },
  {
   "cell_type": "code",
   "execution_count": 5,
   "id": "2b309ffc",
   "metadata": {},
   "outputs": [
    {
     "data": {
      "text/plain": [
       "4    36759\n",
       "1     3457\n",
       "3     3453\n",
       "2     3449\n",
       "Name: rank, dtype: int64"
      ]
     },
     "execution_count": 5,
     "metadata": {},
     "output_type": "execute_result"
    }
   ],
   "source": [
    "results['rank'].value_counts()"
   ]
  },
  {
   "cell_type": "markdown",
   "id": "009dcb9c",
   "metadata": {},
   "source": [
    "### とりあえず着順、馬名、調教師、着差データは使用しないので削除"
   ]
  },
  {
   "cell_type": "code",
   "execution_count": 6,
   "id": "17bf408f",
   "metadata": {},
   "outputs": [],
   "source": [
    "results.drop(['着順','馬名','調教師','着差'], axis=1, inplace=True)"
   ]
  },
  {
   "cell_type": "markdown",
   "id": "c940d225",
   "metadata": {},
   "source": [
    "### 騎手や年齢をダミー変数化"
   ]
  },
  {
   "cell_type": "code",
   "execution_count": 7,
   "id": "96967ada",
   "metadata": {},
   "outputs": [],
   "source": [
    "results_d = pd.get_dummies(results)"
   ]
  },
  {
   "cell_type": "code",
   "execution_count": 8,
   "id": "16edd0c4",
   "metadata": {},
   "outputs": [
    {
     "data": {
      "text/html": [
       "<div>\n",
       "<style scoped>\n",
       "    .dataframe tbody tr th:only-of-type {\n",
       "        vertical-align: middle;\n",
       "    }\n",
       "\n",
       "    .dataframe tbody tr th {\n",
       "        vertical-align: top;\n",
       "    }\n",
       "\n",
       "    .dataframe thead th {\n",
       "        text-align: right;\n",
       "    }\n",
       "</style>\n",
       "<table border=\"1\" class=\"dataframe\">\n",
       "  <thead>\n",
       "    <tr style=\"text-align: right;\">\n",
       "      <th></th>\n",
       "      <th>枠番</th>\n",
       "      <th>馬番</th>\n",
       "      <th>斤量</th>\n",
       "      <th>単勝</th>\n",
       "      <th>人気</th>\n",
       "      <th>体重</th>\n",
       "      <th>増減</th>\n",
       "      <th>rank</th>\n",
       "      <th>騎手_アヴドゥ</th>\n",
       "      <th>騎手_オドノヒ</th>\n",
       "      <th>...</th>\n",
       "      <th>年齢_11</th>\n",
       "      <th>年齢_12</th>\n",
       "      <th>年齢_2</th>\n",
       "      <th>年齢_3</th>\n",
       "      <th>年齢_4</th>\n",
       "      <th>年齢_5</th>\n",
       "      <th>年齢_6</th>\n",
       "      <th>年齢_7</th>\n",
       "      <th>年齢_8</th>\n",
       "      <th>年齢_9</th>\n",
       "    </tr>\n",
       "  </thead>\n",
       "  <tbody>\n",
       "    <tr>\n",
       "      <th>201901010101</th>\n",
       "      <td>1</td>\n",
       "      <td>1</td>\n",
       "      <td>54.0</td>\n",
       "      <td>1.4</td>\n",
       "      <td>1.0</td>\n",
       "      <td>518</td>\n",
       "      <td>-16</td>\n",
       "      <td>1</td>\n",
       "      <td>0</td>\n",
       "      <td>0</td>\n",
       "      <td>...</td>\n",
       "      <td>0</td>\n",
       "      <td>0</td>\n",
       "      <td>1</td>\n",
       "      <td>0</td>\n",
       "      <td>0</td>\n",
       "      <td>0</td>\n",
       "      <td>0</td>\n",
       "      <td>0</td>\n",
       "      <td>0</td>\n",
       "      <td>0</td>\n",
       "    </tr>\n",
       "    <tr>\n",
       "      <th>201901010101</th>\n",
       "      <td>3</td>\n",
       "      <td>3</td>\n",
       "      <td>54.0</td>\n",
       "      <td>3.5</td>\n",
       "      <td>2.0</td>\n",
       "      <td>496</td>\n",
       "      <td>-8</td>\n",
       "      <td>2</td>\n",
       "      <td>0</td>\n",
       "      <td>0</td>\n",
       "      <td>...</td>\n",
       "      <td>0</td>\n",
       "      <td>0</td>\n",
       "      <td>1</td>\n",
       "      <td>0</td>\n",
       "      <td>0</td>\n",
       "      <td>0</td>\n",
       "      <td>0</td>\n",
       "      <td>0</td>\n",
       "      <td>0</td>\n",
       "      <td>0</td>\n",
       "    </tr>\n",
       "    <tr>\n",
       "      <th>201901010101</th>\n",
       "      <td>4</td>\n",
       "      <td>4</td>\n",
       "      <td>51.0</td>\n",
       "      <td>46.6</td>\n",
       "      <td>6.0</td>\n",
       "      <td>546</td>\n",
       "      <td>6</td>\n",
       "      <td>3</td>\n",
       "      <td>0</td>\n",
       "      <td>0</td>\n",
       "      <td>...</td>\n",
       "      <td>0</td>\n",
       "      <td>0</td>\n",
       "      <td>1</td>\n",
       "      <td>0</td>\n",
       "      <td>0</td>\n",
       "      <td>0</td>\n",
       "      <td>0</td>\n",
       "      <td>0</td>\n",
       "      <td>0</td>\n",
       "      <td>0</td>\n",
       "    </tr>\n",
       "    <tr>\n",
       "      <th>201901010101</th>\n",
       "      <td>8</td>\n",
       "      <td>9</td>\n",
       "      <td>51.0</td>\n",
       "      <td>56.8</td>\n",
       "      <td>7.0</td>\n",
       "      <td>458</td>\n",
       "      <td>-8</td>\n",
       "      <td>4</td>\n",
       "      <td>0</td>\n",
       "      <td>0</td>\n",
       "      <td>...</td>\n",
       "      <td>0</td>\n",
       "      <td>0</td>\n",
       "      <td>1</td>\n",
       "      <td>0</td>\n",
       "      <td>0</td>\n",
       "      <td>0</td>\n",
       "      <td>0</td>\n",
       "      <td>0</td>\n",
       "      <td>0</td>\n",
       "      <td>0</td>\n",
       "    </tr>\n",
       "    <tr>\n",
       "      <th>201901010101</th>\n",
       "      <td>5</td>\n",
       "      <td>5</td>\n",
       "      <td>54.0</td>\n",
       "      <td>140.3</td>\n",
       "      <td>9.0</td>\n",
       "      <td>436</td>\n",
       "      <td>0</td>\n",
       "      <td>4</td>\n",
       "      <td>0</td>\n",
       "      <td>0</td>\n",
       "      <td>...</td>\n",
       "      <td>0</td>\n",
       "      <td>0</td>\n",
       "      <td>1</td>\n",
       "      <td>0</td>\n",
       "      <td>0</td>\n",
       "      <td>0</td>\n",
       "      <td>0</td>\n",
       "      <td>0</td>\n",
       "      <td>0</td>\n",
       "      <td>0</td>\n",
       "    </tr>\n",
       "    <tr>\n",
       "      <th>...</th>\n",
       "      <td>...</td>\n",
       "      <td>...</td>\n",
       "      <td>...</td>\n",
       "      <td>...</td>\n",
       "      <td>...</td>\n",
       "      <td>...</td>\n",
       "      <td>...</td>\n",
       "      <td>...</td>\n",
       "      <td>...</td>\n",
       "      <td>...</td>\n",
       "      <td>...</td>\n",
       "      <td>...</td>\n",
       "      <td>...</td>\n",
       "      <td>...</td>\n",
       "      <td>...</td>\n",
       "      <td>...</td>\n",
       "      <td>...</td>\n",
       "      <td>...</td>\n",
       "      <td>...</td>\n",
       "      <td>...</td>\n",
       "      <td>...</td>\n",
       "    </tr>\n",
       "    <tr>\n",
       "      <th>201910021212</th>\n",
       "      <td>6</td>\n",
       "      <td>11</td>\n",
       "      <td>56.0</td>\n",
       "      <td>120.3</td>\n",
       "      <td>15.0</td>\n",
       "      <td>458</td>\n",
       "      <td>8</td>\n",
       "      <td>4</td>\n",
       "      <td>0</td>\n",
       "      <td>0</td>\n",
       "      <td>...</td>\n",
       "      <td>0</td>\n",
       "      <td>0</td>\n",
       "      <td>0</td>\n",
       "      <td>0</td>\n",
       "      <td>0</td>\n",
       "      <td>0</td>\n",
       "      <td>1</td>\n",
       "      <td>0</td>\n",
       "      <td>0</td>\n",
       "      <td>0</td>\n",
       "    </tr>\n",
       "    <tr>\n",
       "      <th>201910021212</th>\n",
       "      <td>1</td>\n",
       "      <td>1</td>\n",
       "      <td>54.0</td>\n",
       "      <td>7.5</td>\n",
       "      <td>4.0</td>\n",
       "      <td>460</td>\n",
       "      <td>2</td>\n",
       "      <td>4</td>\n",
       "      <td>0</td>\n",
       "      <td>0</td>\n",
       "      <td>...</td>\n",
       "      <td>0</td>\n",
       "      <td>0</td>\n",
       "      <td>0</td>\n",
       "      <td>0</td>\n",
       "      <td>0</td>\n",
       "      <td>1</td>\n",
       "      <td>0</td>\n",
       "      <td>0</td>\n",
       "      <td>0</td>\n",
       "      <td>0</td>\n",
       "    </tr>\n",
       "    <tr>\n",
       "      <th>201910021212</th>\n",
       "      <td>2</td>\n",
       "      <td>3</td>\n",
       "      <td>54.0</td>\n",
       "      <td>99.2</td>\n",
       "      <td>12.0</td>\n",
       "      <td>478</td>\n",
       "      <td>14</td>\n",
       "      <td>4</td>\n",
       "      <td>0</td>\n",
       "      <td>0</td>\n",
       "      <td>...</td>\n",
       "      <td>0</td>\n",
       "      <td>0</td>\n",
       "      <td>0</td>\n",
       "      <td>0</td>\n",
       "      <td>1</td>\n",
       "      <td>0</td>\n",
       "      <td>0</td>\n",
       "      <td>0</td>\n",
       "      <td>0</td>\n",
       "      <td>0</td>\n",
       "    </tr>\n",
       "    <tr>\n",
       "      <th>201910021212</th>\n",
       "      <td>6</td>\n",
       "      <td>12</td>\n",
       "      <td>52.0</td>\n",
       "      <td>17.5</td>\n",
       "      <td>8.0</td>\n",
       "      <td>468</td>\n",
       "      <td>2</td>\n",
       "      <td>4</td>\n",
       "      <td>0</td>\n",
       "      <td>0</td>\n",
       "      <td>...</td>\n",
       "      <td>0</td>\n",
       "      <td>0</td>\n",
       "      <td>0</td>\n",
       "      <td>1</td>\n",
       "      <td>0</td>\n",
       "      <td>0</td>\n",
       "      <td>0</td>\n",
       "      <td>0</td>\n",
       "      <td>0</td>\n",
       "      <td>0</td>\n",
       "    </tr>\n",
       "    <tr>\n",
       "      <th>201910021212</th>\n",
       "      <td>2</td>\n",
       "      <td>4</td>\n",
       "      <td>55.0</td>\n",
       "      <td>110.3</td>\n",
       "      <td>14.0</td>\n",
       "      <td>450</td>\n",
       "      <td>8</td>\n",
       "      <td>4</td>\n",
       "      <td>0</td>\n",
       "      <td>0</td>\n",
       "      <td>...</td>\n",
       "      <td>0</td>\n",
       "      <td>0</td>\n",
       "      <td>0</td>\n",
       "      <td>0</td>\n",
       "      <td>1</td>\n",
       "      <td>0</td>\n",
       "      <td>0</td>\n",
       "      <td>0</td>\n",
       "      <td>0</td>\n",
       "      <td>0</td>\n",
       "    </tr>\n",
       "  </tbody>\n",
       "</table>\n",
       "<p>47118 rows × 1835 columns</p>\n",
       "</div>"
      ],
      "text/plain": [
       "              枠番  馬番    斤量     単勝    人気   体重  増減  rank  騎手_アヴドゥ  騎手_オドノヒ  ...  \\\n",
       "201901010101   1   1  54.0    1.4   1.0  518 -16     1        0        0  ...   \n",
       "201901010101   3   3  54.0    3.5   2.0  496  -8     2        0        0  ...   \n",
       "201901010101   4   4  51.0   46.6   6.0  546   6     3        0        0  ...   \n",
       "201901010101   8   9  51.0   56.8   7.0  458  -8     4        0        0  ...   \n",
       "201901010101   5   5  54.0  140.3   9.0  436   0     4        0        0  ...   \n",
       "...           ..  ..   ...    ...   ...  ...  ..   ...      ...      ...  ...   \n",
       "201910021212   6  11  56.0  120.3  15.0  458   8     4        0        0  ...   \n",
       "201910021212   1   1  54.0    7.5   4.0  460   2     4        0        0  ...   \n",
       "201910021212   2   3  54.0   99.2  12.0  478  14     4        0        0  ...   \n",
       "201910021212   6  12  52.0   17.5   8.0  468   2     4        0        0  ...   \n",
       "201910021212   2   4  55.0  110.3  14.0  450   8     4        0        0  ...   \n",
       "\n",
       "              年齢_11  年齢_12  年齢_2  年齢_3  年齢_4  年齢_5  年齢_6  年齢_7  年齢_8  年齢_9  \n",
       "201901010101      0      0     1     0     0     0     0     0     0     0  \n",
       "201901010101      0      0     1     0     0     0     0     0     0     0  \n",
       "201901010101      0      0     1     0     0     0     0     0     0     0  \n",
       "201901010101      0      0     1     0     0     0     0     0     0     0  \n",
       "201901010101      0      0     1     0     0     0     0     0     0     0  \n",
       "...             ...    ...   ...   ...   ...   ...   ...   ...   ...   ...  \n",
       "201910021212      0      0     0     0     0     0     1     0     0     0  \n",
       "201910021212      0      0     0     0     0     1     0     0     0     0  \n",
       "201910021212      0      0     0     0     1     0     0     0     0     0  \n",
       "201910021212      0      0     0     1     0     0     0     0     0     0  \n",
       "201910021212      0      0     0     0     1     0     0     0     0     0  \n",
       "\n",
       "[47118 rows x 1835 columns]"
      ]
     },
     "execution_count": 8,
     "metadata": {},
     "output_type": "execute_result"
    }
   ],
   "source": [
    "results_d"
   ]
  },
  {
   "cell_type": "markdown",
   "id": "659388f7",
   "metadata": {},
   "source": [
    "### 回帰モデルのライブラリインポート"
   ]
  },
  {
   "cell_type": "code",
   "execution_count": 9,
   "id": "925659b4",
   "metadata": {},
   "outputs": [],
   "source": [
    "from sklearn.linear_model import LogisticRegression\n",
    "from sklearn.model_selection import train_test_split\n",
    "from sklearn.preprocessing import StandardScaler"
   ]
  },
  {
   "cell_type": "markdown",
   "id": "0cee739f",
   "metadata": {},
   "source": [
    "### 説明変数から目的変数であるrankを削除、また目的変数としてrankを抽出\n",
    "### そして、データを訓練用と検証用で7:3の割合で分割"
   ]
  },
  {
   "cell_type": "code",
   "execution_count": 10,
   "id": "0239ee7b",
   "metadata": {},
   "outputs": [],
   "source": [
    "X = results_d.drop(['rank'], axis=1)\n",
    "y = results_d['rank']\n",
    "\n",
    "X_train, X_test, y_train, y_test = train_test_split(X, y, stratify=y, test_size=0.3,random_state=0)"
   ]
  },
  {
   "cell_type": "markdown",
   "id": "02904e7f",
   "metadata": {},
   "source": [
    "### モデルで学習"
   ]
  },
  {
   "cell_type": "code",
   "execution_count": 11,
   "id": "f6c6e9db",
   "metadata": {},
   "outputs": [
    {
     "name": "stderr",
     "output_type": "stream",
     "text": [
      "/Users/tak/Library/Python/3.8/lib/python/site-packages/sklearn/linear_model/_logistic.py:763: ConvergenceWarning: lbfgs failed to converge (status=1):\n",
      "STOP: TOTAL NO. of ITERATIONS REACHED LIMIT.\n",
      "\n",
      "Increase the number of iterations (max_iter) or scale the data as shown in:\n",
      "    https://scikit-learn.org/stable/modules/preprocessing.html\n",
      "Please also refer to the documentation for alternative solver options:\n",
      "    https://scikit-learn.org/stable/modules/linear_model.html#logistic-regression\n",
      "  n_iter_i = _check_optimize_result(\n"
     ]
    },
    {
     "data": {
      "text/plain": [
       "LogisticRegression()"
      ]
     },
     "execution_count": 11,
     "metadata": {},
     "output_type": "execute_result"
    }
   ],
   "source": [
    "model = LogisticRegression()\n",
    "model.fit(X_train, y_train)"
   ]
  },
  {
   "cell_type": "code",
   "execution_count": 12,
   "id": "ebd7da90",
   "metadata": {},
   "outputs": [
    {
     "name": "stdout",
     "output_type": "stream",
     "text": [
      "0.7801528106239767 0.7801358234295416\n"
     ]
    }
   ],
   "source": [
    "print(model.score(X_train, y_train), model.score(X_test, y_test))"
   ]
  },
  {
   "cell_type": "markdown",
   "id": "b595ed01",
   "metadata": {},
   "source": [
    "### 4着以下の数が多く、ほとんどが4着と予測されてしまうので、各データのサンプル数を\n",
    "### UnderSamplerで合わせる"
   ]
  },
  {
   "cell_type": "code",
   "execution_count": 13,
   "id": "ac8d5d7a",
   "metadata": {},
   "outputs": [],
   "source": [
    "from imblearn.under_sampling import RandomUnderSampler"
   ]
  },
  {
   "cell_type": "code",
   "execution_count": 14,
   "id": "b8751eb1",
   "metadata": {},
   "outputs": [],
   "source": [
    "rank_1 = y_train.value_counts()[1]\n",
    "rank_2 = y_train.value_counts()[2]\n",
    "rank_3 = y_train.value_counts()[3]\n",
    "\n",
    "rus = RandomUnderSampler(sampling_strategy={1:rank_1, 2:rank_2, 3:rank_3, 4:rank_1}, random_state=71)"
   ]
  },
  {
   "cell_type": "code",
   "execution_count": 15,
   "id": "74ee55cf",
   "metadata": {},
   "outputs": [],
   "source": [
    "X_train_rus, y_train_rus = rus.fit_resample(X_train, y_train)"
   ]
  },
  {
   "cell_type": "markdown",
   "id": "e48d60c4",
   "metadata": {},
   "source": [
    "### 再度学習"
   ]
  },
  {
   "cell_type": "code",
   "execution_count": 16,
   "id": "f55811cb",
   "metadata": {},
   "outputs": [
    {
     "name": "stderr",
     "output_type": "stream",
     "text": [
      "/Users/tak/Library/Python/3.8/lib/python/site-packages/sklearn/linear_model/_logistic.py:763: ConvergenceWarning: lbfgs failed to converge (status=1):\n",
      "STOP: TOTAL NO. of ITERATIONS REACHED LIMIT.\n",
      "\n",
      "Increase the number of iterations (max_iter) or scale the data as shown in:\n",
      "    https://scikit-learn.org/stable/modules/preprocessing.html\n",
      "Please also refer to the documentation for alternative solver options:\n",
      "    https://scikit-learn.org/stable/modules/linear_model.html#logistic-regression\n",
      "  n_iter_i = _check_optimize_result(\n"
     ]
    },
    {
     "name": "stdout",
     "output_type": "stream",
     "text": [
      "0.5661269783518282 0.5658602150537635\n"
     ]
    }
   ],
   "source": [
    "model = LogisticRegression()\n",
    "model.fit(X_train_rus, y_train_rus)\n",
    "\n",
    "print(model.score(X_train, y_train), model.score(X_test, y_test))"
   ]
  },
  {
   "cell_type": "markdown",
   "id": "1c67d7b5",
   "metadata": {},
   "source": [
    "### 予測"
   ]
  },
  {
   "cell_type": "code",
   "execution_count": 17,
   "id": "4f87db17",
   "metadata": {},
   "outputs": [],
   "source": [
    "y_pred = model.predict(X_test)\n",
    "pred_df = pd.DataFrame({'pred':y_pred, 'actual':y_test})"
   ]
  },
  {
   "cell_type": "code",
   "execution_count": 18,
   "id": "40057a4e",
   "metadata": {},
   "outputs": [
    {
     "data": {
      "text/html": [
       "<div>\n",
       "<style scoped>\n",
       "    .dataframe tbody tr th:only-of-type {\n",
       "        vertical-align: middle;\n",
       "    }\n",
       "\n",
       "    .dataframe tbody tr th {\n",
       "        vertical-align: top;\n",
       "    }\n",
       "\n",
       "    .dataframe thead th {\n",
       "        text-align: right;\n",
       "    }\n",
       "</style>\n",
       "<table border=\"1\" class=\"dataframe\">\n",
       "  <thead>\n",
       "    <tr style=\"text-align: right;\">\n",
       "      <th></th>\n",
       "      <th>pred</th>\n",
       "      <th>actual</th>\n",
       "    </tr>\n",
       "  </thead>\n",
       "  <tbody>\n",
       "    <tr>\n",
       "      <th>201907030606</th>\n",
       "      <td>2</td>\n",
       "      <td>2</td>\n",
       "    </tr>\n",
       "    <tr>\n",
       "      <th>201904020801</th>\n",
       "      <td>1</td>\n",
       "      <td>1</td>\n",
       "    </tr>\n",
       "    <tr>\n",
       "      <th>201904021108</th>\n",
       "      <td>4</td>\n",
       "      <td>4</td>\n",
       "    </tr>\n",
       "    <tr>\n",
       "      <th>201901020302</th>\n",
       "      <td>2</td>\n",
       "      <td>4</td>\n",
       "    </tr>\n",
       "    <tr>\n",
       "      <th>201902020103</th>\n",
       "      <td>3</td>\n",
       "      <td>4</td>\n",
       "    </tr>\n",
       "    <tr>\n",
       "      <th>...</th>\n",
       "      <td>...</td>\n",
       "      <td>...</td>\n",
       "    </tr>\n",
       "    <tr>\n",
       "      <th>201905040708</th>\n",
       "      <td>4</td>\n",
       "      <td>4</td>\n",
       "    </tr>\n",
       "    <tr>\n",
       "      <th>201909050601</th>\n",
       "      <td>4</td>\n",
       "      <td>4</td>\n",
       "    </tr>\n",
       "    <tr>\n",
       "      <th>201904020404</th>\n",
       "      <td>4</td>\n",
       "      <td>4</td>\n",
       "    </tr>\n",
       "    <tr>\n",
       "      <th>201906010301</th>\n",
       "      <td>4</td>\n",
       "      <td>4</td>\n",
       "    </tr>\n",
       "    <tr>\n",
       "      <th>201906010504</th>\n",
       "      <td>1</td>\n",
       "      <td>3</td>\n",
       "    </tr>\n",
       "  </tbody>\n",
       "</table>\n",
       "<p>14136 rows × 2 columns</p>\n",
       "</div>"
      ],
      "text/plain": [
       "              pred  actual\n",
       "201907030606     2       2\n",
       "201904020801     1       1\n",
       "201904021108     4       4\n",
       "201901020302     2       4\n",
       "201902020103     3       4\n",
       "...            ...     ...\n",
       "201905040708     4       4\n",
       "201909050601     4       4\n",
       "201904020404     4       4\n",
       "201906010301     4       4\n",
       "201906010504     1       3\n",
       "\n",
       "[14136 rows x 2 columns]"
      ]
     },
     "execution_count": 18,
     "metadata": {},
     "output_type": "execute_result"
    }
   ],
   "source": [
    "pred_df"
   ]
  },
  {
   "cell_type": "code",
   "execution_count": 19,
   "id": "daf12ab0",
   "metadata": {},
   "outputs": [
    {
     "data": {
      "text/plain": [
       "人気        -0.113718\n",
       "単勝        -0.008636\n",
       "年齢_6      -0.005326\n",
       "枠番        -0.004220\n",
       "騎手_岩田康誠   -0.002420\n",
       "             ...   \n",
       "騎手_レーン     0.001742\n",
       "騎手_丸山元気    0.002377\n",
       "騎手_ルメール    0.003049\n",
       "騎手_川田将雅    0.003985\n",
       "年齢_3       0.006068\n",
       "Length: 1834, dtype: float64"
      ]
     },
     "execution_count": 19,
     "metadata": {},
     "output_type": "execute_result"
    }
   ],
   "source": [
    "pd.Series(model.coef_[0], index=X.columns).sort_values()"
   ]
  },
  {
   "cell_type": "code",
   "execution_count": null,
   "id": "736b08bf",
   "metadata": {},
   "outputs": [],
   "source": []
  }
 ],
 "metadata": {
  "kernelspec": {
   "display_name": "Python 3 (ipykernel)",
   "language": "python",
   "name": "python3"
  },
  "language_info": {
   "codemirror_mode": {
    "name": "ipython",
    "version": 3
   },
   "file_extension": ".py",
   "mimetype": "text/x-python",
   "name": "python",
   "nbconvert_exporter": "python",
   "pygments_lexer": "ipython3",
   "version": "3.8.2"
  }
 },
 "nbformat": 4,
 "nbformat_minor": 5
}
